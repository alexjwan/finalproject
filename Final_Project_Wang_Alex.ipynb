{
  "nbformat": 4,
  "nbformat_minor": 0,
  "metadata": {
    "colab": {
      "name": "Final_Project_Wang_Alex.ipynb",
      "provenance": [],
      "collapsed_sections": [],
      "toc_visible": true
    },
    "kernelspec": {
      "name": "python3",
      "display_name": "Python 3"
    },
    "language_info": {
      "name": "python"
    }
  },
  "cells": [
    {
      "cell_type": "markdown",
      "metadata": {
        "id": "HLZ91mmvMQyl"
      },
      "source": [
        "## **Machine Learning Final Project DUE: Friday May 7th 11:59pm**\n",
        "\n",
        "**Note: Please read all the instructions carefully before starting the project.**\n",
        "\n",
        "For your final project you will build an ML model to analyze a dataset of your choice. You are welcome to keep working on the data in your EDA project if your data is large enough (at least 1000 rows for simple models and at least 10,000 for more complex models) or you can choose from the datasets/project suggestions below.\n",
        "\n",
        "In this project make sure that you:\n",
        "- Have a large enough dataset\n",
        "- Split your data in training and testing\n",
        "- Explore your data to inform which type of model to choose (no need if you are using your EDA dataset)\n",
        "- Try different models on your training dataset - then select the most promising model\n",
        "- Use cross validation to fine tune the model’s parameters such as alpha in lasso\n",
        "- Simplify your model using regularization, prunnning, drop-out, etc. to avoid overfitting\n",
        "- Communicate your model’s performance and make sure you compare it to a benchmark when appropriate\n",
        "- Plot interesting graphs and results\n",
        "- Write and publish your article to medium\n",
        "- Commit your code to your GitHub\n",
        "\n",
        "Please ensure you handle all the preprocessing before the modeling.\n",
        "\n",
        "Suggestions for project:\n",
        "You can take a look at the resources given below for choosing a dataset for your project. \n",
        "\n",
        "- Traffic sign detection - https://benchmark.ini.rub.de/gtsdb_dataset.html\n",
        "- Cat and dog classifier - https://www.kaggle.com/c/dogs-vs-cats/data\n",
        "- Other datasets from Kaggle - https://www.kaggle.com/data/41592"
      ]
    },
    {
      "cell_type": "markdown",
      "metadata": {
        "id": "mirWm3dBPv90"
      },
      "source": [
        "## **Grading Criteria**\n",
        "\n",
        "- Show clear exploration of the data to justify model choice\n",
        "- Train mutliple models and clearly articulate why you chose your final model\n",
        "- Show your performance on test dataset\n",
        "- Clear and concise write-up with clear well-documented figures\n",
        "- Commit your code to GitHub"
      ]
    },
    {
      "cell_type": "markdown",
      "metadata": {
        "id": "4ZRNqxFcP4wx"
      },
      "source": [
        "## **Submission Details**\n",
        "\n",
        "This is an individual assignment. You may not work in groups. The assignment is due on Friday (05/07/2021)\n",
        "- To submit your assignment, download your notebook and the dataset, zip the dataset and notebook, and submit the zipped file on blackboard.\n",
        "- Make sure the notebook is named in the format - Final_LastName_FirstName. If you are submitting a zipped file, please name the file as well in the same format.\n",
        "- Please include the link to access your blog and your github repo in your notebook.\n",
        "- Also include the link to your notebook, github repo and the blog in the submission on blackboard. Please ensure the TAs have the required access to your notebooks and the github repo.\n",
        "\n",
        "**Note - If the dataset is too large to be zipped and submitted on blackboard, only submit your notebook, add your dataset to your google drive and share a link to the file in your notebook.**"
      ]
    },
    {
      "cell_type": "code",
      "metadata": {
        "id": "ZzWRBLl6MImY",
        "colab": {
          "base_uri": "https://localhost:8080/"
        },
        "outputId": "445bf67a-6015-4b35-8550-e24736f4f51b"
      },
      "source": [
        "# Start solution here\n",
        "import pandas as pd\n",
        "\n",
        "filename = \"bank-full.csv\"\n",
        "data = pd.read_csv(filename, sep=';')\n",
        "print(data)\n",
        "data.columns = ['age','job','marital','education','default','balance','housing','loan','contact','day','month','duration','campaign','pdays','previous','poutcome','y']\n",
        "data.shape\n",
        "print(data)"
      ],
      "execution_count": null,
      "outputs": [
        {
          "output_type": "stream",
          "text": [
            "       age           job   marital  education  ... pdays  previous poutcome    y\n",
            "0       58    management   married   tertiary  ...    -1         0  unknown   no\n",
            "1       44    technician    single  secondary  ...    -1         0  unknown   no\n",
            "2       33  entrepreneur   married  secondary  ...    -1         0  unknown   no\n",
            "3       47   blue-collar   married    unknown  ...    -1         0  unknown   no\n",
            "4       33       unknown    single    unknown  ...    -1         0  unknown   no\n",
            "...    ...           ...       ...        ...  ...   ...       ...      ...  ...\n",
            "45206   51    technician   married   tertiary  ...    -1         0  unknown  yes\n",
            "45207   71       retired  divorced    primary  ...    -1         0  unknown  yes\n",
            "45208   72       retired   married  secondary  ...   184         3  success  yes\n",
            "45209   57   blue-collar   married  secondary  ...    -1         0  unknown   no\n",
            "45210   37  entrepreneur   married  secondary  ...   188        11    other   no\n",
            "\n",
            "[45211 rows x 17 columns]\n",
            "       age           job   marital  education  ... pdays  previous poutcome    y\n",
            "0       58    management   married   tertiary  ...    -1         0  unknown   no\n",
            "1       44    technician    single  secondary  ...    -1         0  unknown   no\n",
            "2       33  entrepreneur   married  secondary  ...    -1         0  unknown   no\n",
            "3       47   blue-collar   married    unknown  ...    -1         0  unknown   no\n",
            "4       33       unknown    single    unknown  ...    -1         0  unknown   no\n",
            "...    ...           ...       ...        ...  ...   ...       ...      ...  ...\n",
            "45206   51    technician   married   tertiary  ...    -1         0  unknown  yes\n",
            "45207   71       retired  divorced    primary  ...    -1         0  unknown  yes\n",
            "45208   72       retired   married  secondary  ...   184         3  success  yes\n",
            "45209   57   blue-collar   married  secondary  ...    -1         0  unknown   no\n",
            "45210   37  entrepreneur   married  secondary  ...   188        11    other   no\n",
            "\n",
            "[45211 rows x 17 columns]\n"
          ],
          "name": "stdout"
        }
      ]
    },
    {
      "cell_type": "code",
      "metadata": {
        "colab": {
          "base_uri": "https://localhost:8080/",
          "height": 204
        },
        "id": "DdIDHpeK5jy7",
        "outputId": "8b94b4c1-456b-43ed-b25e-d7b8f6252c0a"
      },
      "source": [
        "data2 = data.drop(columns=['age','balance','day','month','duration','campaign','pdays','previous'])\n",
        "data2.head()"
      ],
      "execution_count": null,
      "outputs": [
        {
          "output_type": "execute_result",
          "data": {
            "text/html": [
              "<div>\n",
              "<style scoped>\n",
              "    .dataframe tbody tr th:only-of-type {\n",
              "        vertical-align: middle;\n",
              "    }\n",
              "\n",
              "    .dataframe tbody tr th {\n",
              "        vertical-align: top;\n",
              "    }\n",
              "\n",
              "    .dataframe thead th {\n",
              "        text-align: right;\n",
              "    }\n",
              "</style>\n",
              "<table border=\"1\" class=\"dataframe\">\n",
              "  <thead>\n",
              "    <tr style=\"text-align: right;\">\n",
              "      <th></th>\n",
              "      <th>job</th>\n",
              "      <th>marital</th>\n",
              "      <th>education</th>\n",
              "      <th>default</th>\n",
              "      <th>housing</th>\n",
              "      <th>loan</th>\n",
              "      <th>contact</th>\n",
              "      <th>poutcome</th>\n",
              "      <th>y</th>\n",
              "    </tr>\n",
              "  </thead>\n",
              "  <tbody>\n",
              "    <tr>\n",
              "      <th>0</th>\n",
              "      <td>management</td>\n",
              "      <td>married</td>\n",
              "      <td>tertiary</td>\n",
              "      <td>no</td>\n",
              "      <td>yes</td>\n",
              "      <td>no</td>\n",
              "      <td>unknown</td>\n",
              "      <td>unknown</td>\n",
              "      <td>no</td>\n",
              "    </tr>\n",
              "    <tr>\n",
              "      <th>1</th>\n",
              "      <td>technician</td>\n",
              "      <td>single</td>\n",
              "      <td>secondary</td>\n",
              "      <td>no</td>\n",
              "      <td>yes</td>\n",
              "      <td>no</td>\n",
              "      <td>unknown</td>\n",
              "      <td>unknown</td>\n",
              "      <td>no</td>\n",
              "    </tr>\n",
              "    <tr>\n",
              "      <th>2</th>\n",
              "      <td>entrepreneur</td>\n",
              "      <td>married</td>\n",
              "      <td>secondary</td>\n",
              "      <td>no</td>\n",
              "      <td>yes</td>\n",
              "      <td>yes</td>\n",
              "      <td>unknown</td>\n",
              "      <td>unknown</td>\n",
              "      <td>no</td>\n",
              "    </tr>\n",
              "    <tr>\n",
              "      <th>3</th>\n",
              "      <td>blue-collar</td>\n",
              "      <td>married</td>\n",
              "      <td>unknown</td>\n",
              "      <td>no</td>\n",
              "      <td>yes</td>\n",
              "      <td>no</td>\n",
              "      <td>unknown</td>\n",
              "      <td>unknown</td>\n",
              "      <td>no</td>\n",
              "    </tr>\n",
              "    <tr>\n",
              "      <th>4</th>\n",
              "      <td>unknown</td>\n",
              "      <td>single</td>\n",
              "      <td>unknown</td>\n",
              "      <td>no</td>\n",
              "      <td>no</td>\n",
              "      <td>no</td>\n",
              "      <td>unknown</td>\n",
              "      <td>unknown</td>\n",
              "      <td>no</td>\n",
              "    </tr>\n",
              "  </tbody>\n",
              "</table>\n",
              "</div>"
            ],
            "text/plain": [
              "            job  marital  education default housing loan  contact poutcome   y\n",
              "0    management  married   tertiary      no     yes   no  unknown  unknown  no\n",
              "1    technician   single  secondary      no     yes   no  unknown  unknown  no\n",
              "2  entrepreneur  married  secondary      no     yes  yes  unknown  unknown  no\n",
              "3   blue-collar  married    unknown      no     yes   no  unknown  unknown  no\n",
              "4       unknown   single    unknown      no      no   no  unknown  unknown  no"
            ]
          },
          "metadata": {
            "tags": []
          },
          "execution_count": 2
        }
      ]
    },
    {
      "cell_type": "code",
      "metadata": {
        "colab": {
          "base_uri": "https://localhost:8080/"
        },
        "id": "-yleYrVQ6p3K",
        "outputId": "28233ca6-9383-42dc-f2d8-2eb8d31a1975"
      },
      "source": [
        "data2.shape"
      ],
      "execution_count": null,
      "outputs": [
        {
          "output_type": "execute_result",
          "data": {
            "text/plain": [
              "(45211, 9)"
            ]
          },
          "metadata": {
            "tags": []
          },
          "execution_count": 3
        }
      ]
    },
    {
      "cell_type": "code",
      "metadata": {
        "colab": {
          "base_uri": "https://localhost:8080/",
          "height": 295
        },
        "id": "Plnek4J101Ge",
        "outputId": "c7584bf3-550b-461f-df2b-965db6ea6b77"
      },
      "source": [
        "import matplotlib.pyplot as plt\n",
        "\n",
        "plt.hist(data['y'])\n",
        "plt.xlabel('Subscribe?')\n",
        "plt.ylabel('Number of Instances')\n",
        "plt.title('Number of Subscriptions to Term Deposit')\n",
        "plt.show()"
      ],
      "execution_count": null,
      "outputs": [
        {
          "output_type": "display_data",
          "data": {
            "image/png": "[encoded data removed]",
            "text/plain": [
              "<Figure size 432x288 with 1 Axes>"
            ]
          },
          "metadata": {
            "tags": [],
            "needs_background": "light"
          }
        }
      ]
    },
    {
      "cell_type": "code",
      "metadata": {
        "colab": {
          "base_uri": "https://localhost:8080/",
          "height": 173
        },
        "id": "dK7zzX781RQr",
        "outputId": "681b4eb2-23f2-4d5c-d98d-8ad92d0a87d9"
      },
      "source": [
        "data2.describe()"
      ],
      "execution_count": null,
      "outputs": [
        {
          "output_type": "execute_result",
          "data": {
            "text/html": [
              "<div>\n",
              "<style scoped>\n",
              "    .dataframe tbody tr th:only-of-type {\n",
              "        vertical-align: middle;\n",
              "    }\n",
              "\n",
              "    .dataframe tbody tr th {\n",
              "        vertical-align: top;\n",
              "    }\n",
              "\n",
              "    .dataframe thead th {\n",
              "        text-align: right;\n",
              "    }\n",
              "</style>\n",
              "<table border=\"1\" class=\"dataframe\">\n",
              "  <thead>\n",
              "    <tr style=\"text-align: right;\">\n",
              "      <th></th>\n",
              "      <th>job</th>\n",
              "      <th>marital</th>\n",
              "      <th>education</th>\n",
              "      <th>default</th>\n",
              "      <th>housing</th>\n",
              "      <th>loan</th>\n",
              "      <th>contact</th>\n",
              "      <th>poutcome</th>\n",
              "      <th>y</th>\n",
              "    </tr>\n",
              "  </thead>\n",
              "  <tbody>\n",
              "    <tr>\n",
              "      <th>count</th>\n",
              "      <td>45211</td>\n",
              "      <td>45211</td>\n",
              "      <td>45211</td>\n",
              "      <td>45211</td>\n",
              "      <td>45211</td>\n",
              "      <td>45211</td>\n",
              "      <td>45211</td>\n",
              "      <td>45211</td>\n",
              "      <td>45211</td>\n",
              "    </tr>\n",
              "    <tr>\n",
              "      <th>unique</th>\n",
              "      <td>12</td>\n",
              "      <td>3</td>\n",
              "      <td>4</td>\n",
              "      <td>2</td>\n",
              "      <td>2</td>\n",
              "      <td>2</td>\n",
              "      <td>3</td>\n",
              "      <td>4</td>\n",
              "      <td>2</td>\n",
              "    </tr>\n",
              "    <tr>\n",
              "      <th>top</th>\n",
              "      <td>blue-collar</td>\n",
              "      <td>married</td>\n",
              "      <td>secondary</td>\n",
              "      <td>no</td>\n",
              "      <td>yes</td>\n",
              "      <td>no</td>\n",
              "      <td>cellular</td>\n",
              "      <td>unknown</td>\n",
              "      <td>no</td>\n",
              "    </tr>\n",
              "    <tr>\n",
              "      <th>freq</th>\n",
              "      <td>9732</td>\n",
              "      <td>27214</td>\n",
              "      <td>23202</td>\n",
              "      <td>44396</td>\n",
              "      <td>25130</td>\n",
              "      <td>37967</td>\n",
              "      <td>29285</td>\n",
              "      <td>36959</td>\n",
              "      <td>39922</td>\n",
              "    </tr>\n",
              "  </tbody>\n",
              "</table>\n",
              "</div>"
            ],
            "text/plain": [
              "                job  marital  education  ...   contact poutcome      y\n",
              "count         45211    45211      45211  ...     45211    45211  45211\n",
              "unique           12        3          4  ...         3        4      2\n",
              "top     blue-collar  married  secondary  ...  cellular  unknown     no\n",
              "freq           9732    27214      23202  ...     29285    36959  39922\n",
              "\n",
              "[4 rows x 9 columns]"
            ]
          },
          "metadata": {
            "tags": []
          },
          "execution_count": 5
        }
      ]
    },
    {
      "cell_type": "code",
      "metadata": {
        "colab": {
          "base_uri": "https://localhost:8080/"
        },
        "id": "anJPj_g42E4F",
        "outputId": "24641602-224e-482c-bb01-b6a6e7a2b7ea"
      },
      "source": [
        "from sklearn.model_selection import train_test_split\n",
        "from sklearn.tree import DecisionTreeClassifier\n",
        "from sklearn import metrics\n",
        "from sklearn.metrics import plot_confusion_matrix\n",
        "from sklearn import tree\n",
        "\n",
        "data3 = pd.get_dummies(data2, columns=['job', 'marital', 'education', 'default','housing','loan','contact','poutcome'])\n",
        "print(data3)\n",
        "X = data3.iloc[:, 1:]\n",
        "y = data3.iloc[:, 0]\n"
      ],
      "execution_count": null,
      "outputs": [
        {
          "output_type": "stream",
          "text": [
            "         y  job_admin.  ...  poutcome_success  poutcome_unknown\n",
            "0       no           0  ...                 0                 1\n",
            "1       no           0  ...                 0                 1\n",
            "2       no           0  ...                 0                 1\n",
            "3       no           0  ...                 0                 1\n",
            "4       no           0  ...                 0                 1\n",
            "...    ...         ...  ...               ...               ...\n",
            "45206  yes           0  ...                 0                 1\n",
            "45207  yes           0  ...                 0                 1\n",
            "45208  yes           0  ...                 1                 0\n",
            "45209   no           0  ...                 0                 1\n",
            "45210   no           0  ...                 0                 0\n",
            "\n",
            "[45211 rows x 33 columns]\n"
          ],
          "name": "stdout"
        }
      ]
    },
    {
      "cell_type": "code",
      "metadata": {
        "colab": {
          "base_uri": "https://localhost:8080/"
        },
        "id": "WshnAhkF9h6S",
        "outputId": "10160b87-3da9-49d7-dffc-fb67c804833c"
      },
      "source": [
        "X_train, X_test, y_train, y_test = train_test_split(X, y, test_size=0.3, random_state=50, stratify=y)\n",
        "\n",
        "dt = DecisionTreeClassifier(criterion='entropy')\n",
        "dt.fit(X_train, y_train)"
      ],
      "execution_count": null,
      "outputs": [
        {
          "output_type": "execute_result",
          "data": {
            "text/plain": [
              "DecisionTreeClassifier(ccp_alpha=0.0, class_weight=None, criterion='entropy',\n",
              "                       max_depth=None, max_features=None, max_leaf_nodes=None,\n",
              "                       min_impurity_decrease=0.0, min_impurity_split=None,\n",
              "                       min_samples_leaf=1, min_samples_split=2,\n",
              "                       min_weight_fraction_leaf=0.0, presort='deprecated',\n",
              "                       random_state=None, splitter='best')"
            ]
          },
          "metadata": {
            "tags": []
          },
          "execution_count": 7
        }
      ]
    },
    {
      "cell_type": "code",
      "metadata": {
        "colab": {
          "base_uri": "https://localhost:8080/"
        },
        "id": "TKnhWyEe9jsc",
        "outputId": "66526547-690c-43d5-a377-5d47b2cb0e25"
      },
      "source": [
        "y_pred2 = dt.predict(X_train)\n",
        "print('Accuracy =', metrics.accuracy_score(y_train, y_pred2))"
      ],
      "execution_count": null,
      "outputs": [
        {
          "output_type": "stream",
          "text": [
            "Accuracy = 0.898821373273928\n"
          ],
          "name": "stdout"
        }
      ]
    },
    {
      "cell_type": "code",
      "metadata": {
        "colab": {
          "base_uri": "https://localhost:8080/",
          "height": 313
        },
        "id": "cbZ2QfVmZ1G9",
        "outputId": "e0a4598c-5d8a-4ee4-d1af-a1e23a09b338"
      },
      "source": [
        "from sklearn.metrics import plot_confusion_matrix\n",
        "\n",
        "y_pred = dt.predict(X_test)\n",
        "\n",
        "cf = metrics.confusion_matrix(y_test, y_pred)\n",
        "print(cf)\n",
        "\n",
        "metrics.plot_confusion_matrix(dt, X_test, y_test)\n",
        "plt.show()"
      ],
      "execution_count": null,
      "outputs": [
        {
          "output_type": "stream",
          "text": [
            "[[11802   175]\n",
            " [ 1319   268]]\n"
          ],
          "name": "stdout"
        },
        {
          "output_type": "display_data",
          "data": {
            "image/png": "[encoded data removed]",
            "text/plain": [
              "<Figure size 432x288 with 2 Axes>"
            ]
          },
          "metadata": {
            "tags": [],
            "needs_background": "light"
          }
        }
      ]
    },
    {
      "cell_type": "code",
      "metadata": {
        "colab": {
          "base_uri": "https://localhost:8080/",
          "height": 248
        },
        "id": "3zBb5WvWaPiR",
        "outputId": "e10791ea-6945-4d1f-a44e-2d17698cb72c"
      },
      "source": [
        "from sklearn import tree\n",
        "\n",
        "plt.figure(2)\n",
        "bankTree = tree.plot_tree(dt)\n",
        "plt.show()"
      ],
      "execution_count": null,
      "outputs": [
        {
          "output_type": "display_data",
          "data": {
            "image/png": "[encoded data removed]",
            "text/plain": [
              "<Figure size 432x288 with 1 Axes>"
            ]
          },
          "metadata": {
            "tags": [],
            "needs_background": "light"
          }
        }
      ]
    },
    {
      "cell_type": "code",
      "metadata": {
        "colab": {
          "base_uri": "https://localhost:8080/"
        },
        "id": "8G1uO4vk9mp2",
        "outputId": "e5cb5ef7-0c4f-444b-ea89-76b44e176032"
      },
      "source": [
        "from sklearn.ensemble import BaggingClassifier\n",
        "from sklearn.metrics import accuracy_score\n",
        "\n",
        "model_bagging = BaggingClassifier(n_estimators = 10,random_state = 50)\n",
        "model_bagging.fit(X_train, y_train)\n",
        "pred_bagging = model_bagging.predict(X_test)\n",
        "acc_bagging = accuracy_score(y_test, pred_bagging)\n",
        "\n",
        "print('Accuracy = ', acc_bagging)"
      ],
      "execution_count": null,
      "outputs": [
        {
          "output_type": "stream",
          "text": [
            "Accuracy =  0.8885284576820996\n"
          ],
          "name": "stdout"
        }
      ]
    },
    {
      "cell_type": "code",
      "metadata": {
        "colab": {
          "base_uri": "https://localhost:8080/"
        },
        "id": "UsvJYHPDAcOu",
        "outputId": "cedebf88-505e-4d91-8c1d-dbc189f5e3fa"
      },
      "source": [
        "from sklearn.ensemble import RandomForestClassifier\n",
        "\n",
        "model_rf = RandomForestClassifier(n_estimators=100, max_features=7, random_state=50)\n",
        "model_rf.fit(X_train, y_train)\n",
        "predict_rf = model_rf.predict(X_test)\n",
        "acc_rf = accuracy_score(y_test, predict_rf)\n",
        "\n",
        "print('Accuracy = ', acc_rf)"
      ],
      "execution_count": null,
      "outputs": [
        {
          "output_type": "stream",
          "text": [
            "Accuracy =  0.8906664700678266\n"
          ],
          "name": "stdout"
        }
      ]
    },
    {
      "cell_type": "code",
      "metadata": {
        "colab": {
          "base_uri": "https://localhost:8080/"
        },
        "id": "LarbpBV5bcYD",
        "outputId": "e2d622cc-032d-4564-d0ab-6dc863e2c70c"
      },
      "source": [
        "imp=pd.DataFrame(zip(X_train.columns, model_rf.feature_importances_))\n",
        "imp=pd.DataFrame.sort_values(imp,by=1,axis=0,ascending=False)\n",
        "imp=imp.iloc[0:3,:]\n",
        "print(imp)"
      ],
      "execution_count": null,
      "outputs": [
        {
          "output_type": "stream",
          "text": [
            "                   0         1\n",
            "30  poutcome_success  0.282314\n",
            "31  poutcome_unknown  0.064034\n",
            "27   contact_unknown  0.041316\n"
          ],
          "name": "stdout"
        }
      ]
    },
    {
      "cell_type": "code",
      "metadata": {
        "colab": {
          "base_uri": "https://localhost:8080/"
        },
        "id": "2p9hIaCvCfqJ",
        "outputId": "595bb3a8-3627-4fb9-e3fa-0ccf0e72b628"
      },
      "source": [
        "from sklearn.ensemble import AdaBoostClassifier\n",
        "\n",
        "# base_est = DecisionTreeClassifier (max_depth =4)\n",
        "ada_boost = AdaBoostClassifier(dt, n_estimators=200, random_state=50, learning_rate=.05)\n",
        "ada_boost.fit(X_train, y_train)\n",
        "predict_boost = ada_boost.predict(X_test)\n",
        "acc_boost = accuracy_score(y_test, predict_rf)\n",
        "\n",
        "print('Accuracy = ', acc_rf)"
      ],
      "execution_count": null,
      "outputs": [
        {
          "output_type": "stream",
          "text": [
            "Accuracy =  0.8906664700678266\n"
          ],
          "name": "stdout"
        }
      ]
    },
    {
      "cell_type": "code",
      "metadata": {
        "colab": {
          "base_uri": "https://localhost:8080/"
        },
        "id": "esRN29TQbnRL",
        "outputId": "b1bdf98c-44cf-499c-9811-e16923f52729"
      },
      "source": [
        "imp=pd.DataFrame(zip(X_train.columns, ada_boost.feature_importances_))\n",
        "imp=pd.DataFrame.sort_values(imp,by=1,axis=0,ascending=False)\n",
        "imp=imp.iloc[0:3,:]\n",
        "print(imp)"
      ],
      "execution_count": null,
      "outputs": [
        {
          "output_type": "stream",
          "text": [
            "                   0         1\n",
            "30  poutcome_success  0.184716\n",
            "27   contact_unknown  0.091443\n",
            "21        housing_no  0.022614\n"
          ],
          "name": "stdout"
        },
        {
          "output_type": "stream",
          "text": [
            "/usr/local/lib/python3.7/dist-packages/sklearn/tree/_classes.py:578: RuntimeWarning: invalid value encountered in true_divide\n",
            "  return self.tree_.compute_feature_importances()\n"
          ],
          "name": "stderr"
        }
      ]
    }
  ]
}